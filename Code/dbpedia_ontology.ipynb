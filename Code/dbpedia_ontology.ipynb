{
  "metadata": {
    "kernelspec": {
      "display_name": "Python 3",
      "name": "python3"
    },
    "language_info": {
      "name": "python",
      "version": "3.10.12",
      "mimetype": "text/x-python",
      "codemirror_mode": {
        "name": "ipython",
        "version": 3
      },
      "pygments_lexer": "ipython3",
      "nbconvert_exporter": "python",
      "file_extension": ".py"
    },
    "kaggle": {
      "accelerator": "gpu",
      "dataSources": [
        {
          "sourceId": 7104655,
          "sourceType": "datasetVersion",
          "datasetId": 4095790
        }
      ],
      "dockerImageVersionId": 30918,
      "isInternetEnabled": true,
      "language": "python",
      "sourceType": "notebook",
      "isGpuEnabled": true
    },
    "colab": {
      "provenance": [],
      "gpuType": "A100"
    },
    "accelerator": "GPU",
    "widgets": {
      "application/vnd.jupyter.widget-state+json": {
        "6fa2f1991eab4088a3153e8ab5a79874": {
          "model_module": "@jupyter-widgets/controls",
          "model_name": "HBoxModel",
          "model_module_version": "1.5.0",
          "state": {
            "_dom_classes": [],
            "_model_module": "@jupyter-widgets/controls",
            "_model_module_version": "1.5.0",
            "_model_name": "HBoxModel",
            "_view_count": null,
            "_view_module": "@jupyter-widgets/controls",
            "_view_module_version": "1.5.0",
            "_view_name": "HBoxView",
            "box_style": "",
            "children": [
              "IPY_MODEL_c0e995e38c6a4645b756fd3ebc4ed7ef",
              "IPY_MODEL_a2324b23585943d28976a660629c9cc4",
              "IPY_MODEL_dd05a9adbddc456fad46037e240e5f0e"
            ],
            "layout": "IPY_MODEL_a27dbc50f6e2438b9095bf3fdd2cba03"
          }
        },
        "c0e995e38c6a4645b756fd3ebc4ed7ef": {
          "model_module": "@jupyter-widgets/controls",
          "model_name": "HTMLModel",
          "model_module_version": "1.5.0",
          "state": {
            "_dom_classes": [],
            "_model_module": "@jupyter-widgets/controls",
            "_model_module_version": "1.5.0",
            "_model_name": "HTMLModel",
            "_view_count": null,
            "_view_module": "@jupyter-widgets/controls",
            "_view_module_version": "1.5.0",
            "_view_name": "HTMLView",
            "description": "",
            "description_tooltip": null,
            "layout": "IPY_MODEL_d7030e09ef7b4a14a0c4a158aff28b24",
            "placeholder": "​",
            "style": "IPY_MODEL_1ae842d97ace4501afa88a9b34f3d378",
            "value": "config.json: 100%"
          }
        },
        "a2324b23585943d28976a660629c9cc4": {
          "model_module": "@jupyter-widgets/controls",
          "model_name": "FloatProgressModel",
          "model_module_version": "1.5.0",
          "state": {
            "_dom_classes": [],
            "_model_module": "@jupyter-widgets/controls",
            "_model_module_version": "1.5.0",
            "_model_name": "FloatProgressModel",
            "_view_count": null,
            "_view_module": "@jupyter-widgets/controls",
            "_view_module_version": "1.5.0",
            "_view_name": "ProgressView",
            "bar_style": "success",
            "description": "",
            "description_tooltip": null,
            "layout": "IPY_MODEL_0d3c02ea03c141938b01a71f288f6919",
            "max": 285,
            "min": 0,
            "orientation": "horizontal",
            "style": "IPY_MODEL_69ed06a466274997bdd2f5e0df3288c3",
            "value": 285
          }
        },
        "dd05a9adbddc456fad46037e240e5f0e": {
          "model_module": "@jupyter-widgets/controls",
          "model_name": "HTMLModel",
          "model_module_version": "1.5.0",
          "state": {
            "_dom_classes": [],
            "_model_module": "@jupyter-widgets/controls",
            "_model_module_version": "1.5.0",
            "_model_name": "HTMLModel",
            "_view_count": null,
            "_view_module": "@jupyter-widgets/controls",
            "_view_module_version": "1.5.0",
            "_view_name": "HTMLView",
            "description": "",
            "description_tooltip": null,
            "layout": "IPY_MODEL_de7650a58e9b4a8bbb43cb504d092235",
            "placeholder": "​",
            "style": "IPY_MODEL_f8f741481214463c9721e715daf9fce8",
            "value": " 285/285 [00:00&lt;00:00, 35.8kB/s]"
          }
        },
        "a27dbc50f6e2438b9095bf3fdd2cba03": {
          "model_module": "@jupyter-widgets/base",
          "model_name": "LayoutModel",
          "model_module_version": "1.2.0",
          "state": {
            "_model_module": "@jupyter-widgets/base",
            "_model_module_version": "1.2.0",
            "_model_name": "LayoutModel",
            "_view_count": null,
            "_view_module": "@jupyter-widgets/base",
            "_view_module_version": "1.2.0",
            "_view_name": "LayoutView",
            "align_content": null,
            "align_items": null,
            "align_self": null,
            "border": null,
            "bottom": null,
            "display": null,
            "flex": null,
            "flex_flow": null,
            "grid_area": null,
            "grid_auto_columns": null,
            "grid_auto_flow": null,
            "grid_auto_rows": null,
            "grid_column": null,
            "grid_gap": null,
            "grid_row": null,
            "grid_template_areas": null,
            "grid_template_columns": null,
            "grid_template_rows": null,
            "height": null,
            "justify_content": null,
            "justify_items": null,
            "left": null,
            "margin": null,
            "max_height": null,
            "max_width": null,
            "min_height": null,
            "min_width": null,
            "object_fit": null,
            "object_position": null,
            "order": null,
            "overflow": null,
            "overflow_x": null,
            "overflow_y": null,
            "padding": null,
            "right": null,
            "top": null,
            "visibility": null,
            "width": null
          }
        },
        "d7030e09ef7b4a14a0c4a158aff28b24": {
          "model_module": "@jupyter-widgets/base",
          "model_name": "LayoutModel",
          "model_module_version": "1.2.0",
          "state": {
            "_model_module": "@jupyter-widgets/base",
            "_model_module_version": "1.2.0",
            "_model_name": "LayoutModel",
            "_view_count": null,
            "_view_module": "@jupyter-widgets/base",
            "_view_module_version": "1.2.0",
            "_view_name": "LayoutView",
            "align_content": null,
            "align_items": null,
            "align_self": null,
            "border": null,
            "bottom": null,
            "display": null,
            "flex": null,
            "flex_flow": null,
            "grid_area": null,
            "grid_auto_columns": null,
            "grid_auto_flow": null,
            "grid_auto_rows": null,
            "grid_column": null,
            "grid_gap": null,
            "grid_row": null,
            "grid_template_areas": null,
            "grid_template_columns": null,
            "grid_template_rows": null,
            "height": null,
            "justify_content": null,
            "justify_items": null,
            "left": null,
            "margin": null,
            "max_height": null,
            "max_width": null,
            "min_height": null,
            "min_width": null,
            "object_fit": null,
            "object_position": null,
            "order": null,
            "overflow": null,
            "overflow_x": null,
            "overflow_y": null,
            "padding": null,
            "right": null,
            "top": null,
            "visibility": null,
            "width": null
          }
        },
        "1ae842d97ace4501afa88a9b34f3d378": {
          "model_module": "@jupyter-widgets/controls",
          "model_name": "DescriptionStyleModel",
          "model_module_version": "1.5.0",
          "state": {
            "_model_module": "@jupyter-widgets/controls",
            "_model_module_version": "1.5.0",
            "_model_name": "DescriptionStyleModel",
            "_view_count": null,
            "_view_module": "@jupyter-widgets/base",
            "_view_module_version": "1.2.0",
            "_view_name": "StyleView",
            "description_width": ""
          }
        },
        "0d3c02ea03c141938b01a71f288f6919": {
          "model_module": "@jupyter-widgets/base",
          "model_name": "LayoutModel",
          "model_module_version": "1.2.0",
          "state": {
            "_model_module": "@jupyter-widgets/base",
            "_model_module_version": "1.2.0",
            "_model_name": "LayoutModel",
            "_view_count": null,
            "_view_module": "@jupyter-widgets/base",
            "_view_module_version": "1.2.0",
            "_view_name": "LayoutView",
            "align_content": null,
            "align_items": null,
            "align_self": null,
            "border": null,
            "bottom": null,
            "display": null,
            "flex": null,
            "flex_flow": null,
            "grid_area": null,
            "grid_auto_columns": null,
            "grid_auto_flow": null,
            "grid_auto_rows": null,
            "grid_column": null,
            "grid_gap": null,
            "grid_row": null,
            "grid_template_areas": null,
            "grid_template_columns": null,
            "grid_template_rows": null,
            "height": null,
            "justify_content": null,
            "justify_items": null,
            "left": null,
            "margin": null,
            "max_height": null,
            "max_width": null,
            "min_height": null,
            "min_width": null,
            "object_fit": null,
            "object_position": null,
            "order": null,
            "overflow": null,
            "overflow_x": null,
            "overflow_y": null,
            "padding": null,
            "right": null,
            "top": null,
            "visibility": null,
            "width": null
          }
        },
        "69ed06a466274997bdd2f5e0df3288c3": {
          "model_module": "@jupyter-widgets/controls",
          "model_name": "ProgressStyleModel",
          "model_module_version": "1.5.0",
          "state": {
            "_model_module": "@jupyter-widgets/controls",
            "_model_module_version": "1.5.0",
            "_model_name": "ProgressStyleModel",
            "_view_count": null,
            "_view_module": "@jupyter-widgets/base",
            "_view_module_version": "1.2.0",
            "_view_name": "StyleView",
            "bar_color": null,
            "description_width": ""
          }
        },
        "de7650a58e9b4a8bbb43cb504d092235": {
          "model_module": "@jupyter-widgets/base",
          "model_name": "LayoutModel",
          "model_module_version": "1.2.0",
          "state": {
            "_model_module": "@jupyter-widgets/base",
            "_model_module_version": "1.2.0",
            "_model_name": "LayoutModel",
            "_view_count": null,
            "_view_module": "@jupyter-widgets/base",
            "_view_module_version": "1.2.0",
            "_view_name": "LayoutView",
            "align_content": null,
            "align_items": null,
            "align_self": null,
            "border": null,
            "bottom": null,
            "display": null,
            "flex": null,
            "flex_flow": null,
            "grid_area": null,
            "grid_auto_columns": null,
            "grid_auto_flow": null,
            "grid_auto_rows": null,
            "grid_column": null,
            "grid_gap": null,
            "grid_row": null,
            "grid_template_areas": null,
            "grid_template_columns": null,
            "grid_template_rows": null,
            "height": null,
            "justify_content": null,
            "justify_items": null,
            "left": null,
            "margin": null,
            "max_height": null,
            "max_width": null,
            "min_height": null,
            "min_width": null,
            "object_fit": null,
            "object_position": null,
            "order": null,
            "overflow": null,
            "overflow_x": null,
            "overflow_y": null,
            "padding": null,
            "right": null,
            "top": null,
            "visibility": null,
            "width": null
          }
        },
        "f8f741481214463c9721e715daf9fce8": {
          "model_module": "@jupyter-widgets/controls",
          "model_name": "DescriptionStyleModel",
          "model_module_version": "1.5.0",
          "state": {
            "_model_module": "@jupyter-widgets/controls",
            "_model_module_version": "1.5.0",
            "_model_name": "DescriptionStyleModel",
            "_view_count": null,
            "_view_module": "@jupyter-widgets/base",
            "_view_module_version": "1.2.0",
            "_view_name": "StyleView",
            "description_width": ""
          }
        },
        "c342598eb6204a88a0045d8a436d30cc": {
          "model_module": "@jupyter-widgets/controls",
          "model_name": "HBoxModel",
          "model_module_version": "1.5.0",
          "state": {
            "_dom_classes": [],
            "_model_module": "@jupyter-widgets/controls",
            "_model_module_version": "1.5.0",
            "_model_name": "HBoxModel",
            "_view_count": null,
            "_view_module": "@jupyter-widgets/controls",
            "_view_module_version": "1.5.0",
            "_view_name": "HBoxView",
            "box_style": "",
            "children": [
              "IPY_MODEL_440722780e0e4c9ab6bd08558e1cc4cf",
              "IPY_MODEL_cbeea923cdc444cea79464df4589393c",
              "IPY_MODEL_534fb1a9645e4c3d840bdc91ec737de1"
            ],
            "layout": "IPY_MODEL_bb659f43ed024c2596a611660a73fa53"
          }
        },
        "440722780e0e4c9ab6bd08558e1cc4cf": {
          "model_module": "@jupyter-widgets/controls",
          "model_name": "HTMLModel",
          "model_module_version": "1.5.0",
          "state": {
            "_dom_classes": [],
            "_model_module": "@jupyter-widgets/controls",
            "_model_module_version": "1.5.0",
            "_model_name": "HTMLModel",
            "_view_count": null,
            "_view_module": "@jupyter-widgets/controls",
            "_view_module_version": "1.5.0",
            "_view_name": "HTMLView",
            "description": "",
            "description_tooltip": null,
            "layout": "IPY_MODEL_9206abe94a4f49aba4ba5e8ec653b39e",
            "placeholder": "​",
            "style": "IPY_MODEL_3d3722982f044ec5a8f26a2394fcc77e",
            "value": "vocab.txt: 100%"
          }
        },
        "cbeea923cdc444cea79464df4589393c": {
          "model_module": "@jupyter-widgets/controls",
          "model_name": "FloatProgressModel",
          "model_module_version": "1.5.0",
          "state": {
            "_dom_classes": [],
            "_model_module": "@jupyter-widgets/controls",
            "_model_module_version": "1.5.0",
            "_model_name": "FloatProgressModel",
            "_view_count": null,
            "_view_module": "@jupyter-widgets/controls",
            "_view_module_version": "1.5.0",
            "_view_name": "ProgressView",
            "bar_style": "success",
            "description": "",
            "description_tooltip": null,
            "layout": "IPY_MODEL_536eb4deda4e4cb398a5cf9a4283a55a",
            "max": 231508,
            "min": 0,
            "orientation": "horizontal",
            "style": "IPY_MODEL_d4c3170f2e474c0e93fca604659b34d6",
            "value": 231508
          }
        },
        "534fb1a9645e4c3d840bdc91ec737de1": {
          "model_module": "@jupyter-widgets/controls",
          "model_name": "HTMLModel",
          "model_module_version": "1.5.0",
          "state": {
            "_dom_classes": [],
            "_model_module": "@jupyter-widgets/controls",
            "_model_module_version": "1.5.0",
            "_model_name": "HTMLModel",
            "_view_count": null,
            "_view_module": "@jupyter-widgets/controls",
            "_view_module_version": "1.5.0",
            "_view_name": "HTMLView",
            "description": "",
            "description_tooltip": null,
            "layout": "IPY_MODEL_af8fce040e3f4a21b792822fc423785d",
            "placeholder": "​",
            "style": "IPY_MODEL_b7ec4adf18d64920ab7a6ab1776c8249",
            "value": " 232k/232k [00:00&lt;00:00, 18.7MB/s]"
          }
        },
        "bb659f43ed024c2596a611660a73fa53": {
          "model_module": "@jupyter-widgets/base",
          "model_name": "LayoutModel",
          "model_module_version": "1.2.0",
          "state": {
            "_model_module": "@jupyter-widgets/base",
            "_model_module_version": "1.2.0",
            "_model_name": "LayoutModel",
            "_view_count": null,
            "_view_module": "@jupyter-widgets/base",
            "_view_module_version": "1.2.0",
            "_view_name": "LayoutView",
            "align_content": null,
            "align_items": null,
            "align_self": null,
            "border": null,
            "bottom": null,
            "display": null,
            "flex": null,
            "flex_flow": null,
            "grid_area": null,
            "grid_auto_columns": null,
            "grid_auto_flow": null,
            "grid_auto_rows": null,
            "grid_column": null,
            "grid_gap": null,
            "grid_row": null,
            "grid_template_areas": null,
            "grid_template_columns": null,
            "grid_template_rows": null,
            "height": null,
            "justify_content": null,
            "justify_items": null,
            "left": null,
            "margin": null,
            "max_height": null,
            "max_width": null,
            "min_height": null,
            "min_width": null,
            "object_fit": null,
            "object_position": null,
            "order": null,
            "overflow": null,
            "overflow_x": null,
            "overflow_y": null,
            "padding": null,
            "right": null,
            "top": null,
            "visibility": null,
            "width": null
          }
        },
        "9206abe94a4f49aba4ba5e8ec653b39e": {
          "model_module": "@jupyter-widgets/base",
          "model_name": "LayoutModel",
          "model_module_version": "1.2.0",
          "state": {
            "_model_module": "@jupyter-widgets/base",
            "_model_module_version": "1.2.0",
            "_model_name": "LayoutModel",
            "_view_count": null,
            "_view_module": "@jupyter-widgets/base",
            "_view_module_version": "1.2.0",
            "_view_name": "LayoutView",
            "align_content": null,
            "align_items": null,
            "align_self": null,
            "border": null,
            "bottom": null,
            "display": null,
            "flex": null,
            "flex_flow": null,
            "grid_area": null,
            "grid_auto_columns": null,
            "grid_auto_flow": null,
            "grid_auto_rows": null,
            "grid_column": null,
            "grid_gap": null,
            "grid_row": null,
            "grid_template_areas": null,
            "grid_template_columns": null,
            "grid_template_rows": null,
            "height": null,
            "justify_content": null,
            "justify_items": null,
            "left": null,
            "margin": null,
            "max_height": null,
            "max_width": null,
            "min_height": null,
            "min_width": null,
            "object_fit": null,
            "object_position": null,
            "order": null,
            "overflow": null,
            "overflow_x": null,
            "overflow_y": null,
            "padding": null,
            "right": null,
            "top": null,
            "visibility": null,
            "width": null
          }
        },
        "3d3722982f044ec5a8f26a2394fcc77e": {
          "model_module": "@jupyter-widgets/controls",
          "model_name": "DescriptionStyleModel",
          "model_module_version": "1.5.0",
          "state": {
            "_model_module": "@jupyter-widgets/controls",
            "_model_module_version": "1.5.0",
            "_model_name": "DescriptionStyleModel",
            "_view_count": null,
            "_view_module": "@jupyter-widgets/base",
            "_view_module_version": "1.2.0",
            "_view_name": "StyleView",
            "description_width": ""
          }
        },
        "536eb4deda4e4cb398a5cf9a4283a55a": {
          "model_module": "@jupyter-widgets/base",
          "model_name": "LayoutModel",
          "model_module_version": "1.2.0",
          "state": {
            "_model_module": "@jupyter-widgets/base",
            "_model_module_version": "1.2.0",
            "_model_name": "LayoutModel",
            "_view_count": null,
            "_view_module": "@jupyter-widgets/base",
            "_view_module_version": "1.2.0",
            "_view_name": "LayoutView",
            "align_content": null,
            "align_items": null,
            "align_self": null,
            "border": null,
            "bottom": null,
            "display": null,
            "flex": null,
            "flex_flow": null,
            "grid_area": null,
            "grid_auto_columns": null,
            "grid_auto_flow": null,
            "grid_auto_rows": null,
            "grid_column": null,
            "grid_gap": null,
            "grid_row": null,
            "grid_template_areas": null,
            "grid_template_columns": null,
            "grid_template_rows": null,
            "height": null,
            "justify_content": null,
            "justify_items": null,
            "left": null,
            "margin": null,
            "max_height": null,
            "max_width": null,
            "min_height": null,
            "min_width": null,
            "object_fit": null,
            "object_position": null,
            "order": null,
            "overflow": null,
            "overflow_x": null,
            "overflow_y": null,
            "padding": null,
            "right": null,
            "top": null,
            "visibility": null,
            "width": null
          }
        },
        "d4c3170f2e474c0e93fca604659b34d6": {
          "model_module": "@jupyter-widgets/controls",
          "model_name": "ProgressStyleModel",
          "model_module_version": "1.5.0",
          "state": {
            "_model_module": "@jupyter-widgets/controls",
            "_model_module_version": "1.5.0",
            "_model_name": "ProgressStyleModel",
            "_view_count": null,
            "_view_module": "@jupyter-widgets/base",
            "_view_module_version": "1.2.0",
            "_view_name": "StyleView",
            "bar_color": null,
            "description_width": ""
          }
        },
        "af8fce040e3f4a21b792822fc423785d": {
          "model_module": "@jupyter-widgets/base",
          "model_name": "LayoutModel",
          "model_module_version": "1.2.0",
          "state": {
            "_model_module": "@jupyter-widgets/base",
            "_model_module_version": "1.2.0",
            "_model_name": "LayoutModel",
            "_view_count": null,
            "_view_module": "@jupyter-widgets/base",
            "_view_module_version": "1.2.0",
            "_view_name": "LayoutView",
            "align_content": null,
            "align_items": null,
            "align_self": null,
            "border": null,
            "bottom": null,
            "display": null,
            "flex": null,
            "flex_flow": null,
            "grid_area": null,
            "grid_auto_columns": null,
            "grid_auto_flow": null,
            "grid_auto_rows": null,
            "grid_column": null,
            "grid_gap": null,
            "grid_row": null,
            "grid_template_areas": null,
            "grid_template_columns": null,
            "grid_template_rows": null,
            "height": null,
            "justify_content": null,
            "justify_items": null,
            "left": null,
            "margin": null,
            "max_height": null,
            "max_width": null,
            "min_height": null,
            "min_width": null,
            "object_fit": null,
            "object_position": null,
            "order": null,
            "overflow": null,
            "overflow_x": null,
            "overflow_y": null,
            "padding": null,
            "right": null,
            "top": null,
            "visibility": null,
            "width": null
          }
        },
        "b7ec4adf18d64920ab7a6ab1776c8249": {
          "model_module": "@jupyter-widgets/controls",
          "model_name": "DescriptionStyleModel",
          "model_module_version": "1.5.0",
          "state": {
            "_model_module": "@jupyter-widgets/controls",
            "_model_module_version": "1.5.0",
            "_model_name": "DescriptionStyleModel",
            "_view_count": null,
            "_view_module": "@jupyter-widgets/base",
            "_view_module_version": "1.2.0",
            "_view_name": "StyleView",
            "description_width": ""
          }
        },
        "5d7ab0b6e17149d9b178fef020e7b927": {
          "model_module": "@jupyter-widgets/controls",
          "model_name": "HBoxModel",
          "model_module_version": "1.5.0",
          "state": {
            "_dom_classes": [],
            "_model_module": "@jupyter-widgets/controls",
            "_model_module_version": "1.5.0",
            "_model_name": "HBoxModel",
            "_view_count": null,
            "_view_module": "@jupyter-widgets/controls",
            "_view_module_version": "1.5.0",
            "_view_name": "HBoxView",
            "box_style": "",
            "children": [
              "IPY_MODEL_aa782cf3372147d1a044f6946b544f94",
              "IPY_MODEL_d1e071edc09a4c678b958b6cda0f12d8",
              "IPY_MODEL_e5d59ce4c0a24a088f1de73c2d2fc221"
            ],
            "layout": "IPY_MODEL_ee367eb5a1ae40dbbddf5667db1a20b3"
          }
        },
        "aa782cf3372147d1a044f6946b544f94": {
          "model_module": "@jupyter-widgets/controls",
          "model_name": "HTMLModel",
          "model_module_version": "1.5.0",
          "state": {
            "_dom_classes": [],
            "_model_module": "@jupyter-widgets/controls",
            "_model_module_version": "1.5.0",
            "_model_name": "HTMLModel",
            "_view_count": null,
            "_view_module": "@jupyter-widgets/controls",
            "_view_module_version": "1.5.0",
            "_view_name": "HTMLView",
            "description": "",
            "description_tooltip": null,
            "layout": "IPY_MODEL_2a138b504f4a4a27be3586d4083865a6",
            "placeholder": "​",
            "style": "IPY_MODEL_920cd928ddea43cfa990d109a638205c",
            "value": "pytorch_model.bin: 100%"
          }
        },
        "d1e071edc09a4c678b958b6cda0f12d8": {
          "model_module": "@jupyter-widgets/controls",
          "model_name": "FloatProgressModel",
          "model_module_version": "1.5.0",
          "state": {
            "_dom_classes": [],
            "_model_module": "@jupyter-widgets/controls",
            "_model_module_version": "1.5.0",
            "_model_name": "FloatProgressModel",
            "_view_count": null,
            "_view_module": "@jupyter-widgets/controls",
            "_view_module_version": "1.5.0",
            "_view_name": "ProgressView",
            "bar_style": "success",
            "description": "",
            "description_tooltip": null,
            "layout": "IPY_MODEL_7800274458dd47d1b9180f5301237da0",
            "max": 17756393,
            "min": 0,
            "orientation": "horizontal",
            "style": "IPY_MODEL_aed924f346e74519832b3ce19752ac85",
            "value": 17756393
          }
        },
        "e5d59ce4c0a24a088f1de73c2d2fc221": {
          "model_module": "@jupyter-widgets/controls",
          "model_name": "HTMLModel",
          "model_module_version": "1.5.0",
          "state": {
            "_dom_classes": [],
            "_model_module": "@jupyter-widgets/controls",
            "_model_module_version": "1.5.0",
            "_model_name": "HTMLModel",
            "_view_count": null,
            "_view_module": "@jupyter-widgets/controls",
            "_view_module_version": "1.5.0",
            "_view_name": "HTMLView",
            "description": "",
            "description_tooltip": null,
            "layout": "IPY_MODEL_5ef7d8eca0044645a7eb79d4a08e4848",
            "placeholder": "​",
            "style": "IPY_MODEL_24ac276bb8534c79b74a2e386faf3939",
            "value": " 17.8M/17.8M [00:00&lt;00:00, 166MB/s]"
          }
        },
        "ee367eb5a1ae40dbbddf5667db1a20b3": {
          "model_module": "@jupyter-widgets/base",
          "model_name": "LayoutModel",
          "model_module_version": "1.2.0",
          "state": {
            "_model_module": "@jupyter-widgets/base",
            "_model_module_version": "1.2.0",
            "_model_name": "LayoutModel",
            "_view_count": null,
            "_view_module": "@jupyter-widgets/base",
            "_view_module_version": "1.2.0",
            "_view_name": "LayoutView",
            "align_content": null,
            "align_items": null,
            "align_self": null,
            "border": null,
            "bottom": null,
            "display": null,
            "flex": null,
            "flex_flow": null,
            "grid_area": null,
            "grid_auto_columns": null,
            "grid_auto_flow": null,
            "grid_auto_rows": null,
            "grid_column": null,
            "grid_gap": null,
            "grid_row": null,
            "grid_template_areas": null,
            "grid_template_columns": null,
            "grid_template_rows": null,
            "height": null,
            "justify_content": null,
            "justify_items": null,
            "left": null,
            "margin": null,
            "max_height": null,
            "max_width": null,
            "min_height": null,
            "min_width": null,
            "object_fit": null,
            "object_position": null,
            "order": null,
            "overflow": null,
            "overflow_x": null,
            "overflow_y": null,
            "padding": null,
            "right": null,
            "top": null,
            "visibility": null,
            "width": null
          }
        },
        "2a138b504f4a4a27be3586d4083865a6": {
          "model_module": "@jupyter-widgets/base",
          "model_name": "LayoutModel",
          "model_module_version": "1.2.0",
          "state": {
            "_model_module": "@jupyter-widgets/base",
            "_model_module_version": "1.2.0",
            "_model_name": "LayoutModel",
            "_view_count": null,
            "_view_module": "@jupyter-widgets/base",
            "_view_module_version": "1.2.0",
            "_view_name": "LayoutView",
            "align_content": null,
            "align_items": null,
            "align_self": null,
            "border": null,
            "bottom": null,
            "display": null,
            "flex": null,
            "flex_flow": null,
            "grid_area": null,
            "grid_auto_columns": null,
            "grid_auto_flow": null,
            "grid_auto_rows": null,
            "grid_column": null,
            "grid_gap": null,
            "grid_row": null,
            "grid_template_areas": null,
            "grid_template_columns": null,
            "grid_template_rows": null,
            "height": null,
            "justify_content": null,
            "justify_items": null,
            "left": null,
            "margin": null,
            "max_height": null,
            "max_width": null,
            "min_height": null,
            "min_width": null,
            "object_fit": null,
            "object_position": null,
            "order": null,
            "overflow": null,
            "overflow_x": null,
            "overflow_y": null,
            "padding": null,
            "right": null,
            "top": null,
            "visibility": null,
            "width": null
          }
        },
        "920cd928ddea43cfa990d109a638205c": {
          "model_module": "@jupyter-widgets/controls",
          "model_name": "DescriptionStyleModel",
          "model_module_version": "1.5.0",
          "state": {
            "_model_module": "@jupyter-widgets/controls",
            "_model_module_version": "1.5.0",
            "_model_name": "DescriptionStyleModel",
            "_view_count": null,
            "_view_module": "@jupyter-widgets/base",
            "_view_module_version": "1.2.0",
            "_view_name": "StyleView",
            "description_width": ""
          }
        },
        "7800274458dd47d1b9180f5301237da0": {
          "model_module": "@jupyter-widgets/base",
          "model_name": "LayoutModel",
          "model_module_version": "1.2.0",
          "state": {
            "_model_module": "@jupyter-widgets/base",
            "_model_module_version": "1.2.0",
            "_model_name": "LayoutModel",
            "_view_count": null,
            "_view_module": "@jupyter-widgets/base",
            "_view_module_version": "1.2.0",
            "_view_name": "LayoutView",
            "align_content": null,
            "align_items": null,
            "align_self": null,
            "border": null,
            "bottom": null,
            "display": null,
            "flex": null,
            "flex_flow": null,
            "grid_area": null,
            "grid_auto_columns": null,
            "grid_auto_flow": null,
            "grid_auto_rows": null,
            "grid_column": null,
            "grid_gap": null,
            "grid_row": null,
            "grid_template_areas": null,
            "grid_template_columns": null,
            "grid_template_rows": null,
            "height": null,
            "justify_content": null,
            "justify_items": null,
            "left": null,
            "margin": null,
            "max_height": null,
            "max_width": null,
            "min_height": null,
            "min_width": null,
            "object_fit": null,
            "object_position": null,
            "order": null,
            "overflow": null,
            "overflow_x": null,
            "overflow_y": null,
            "padding": null,
            "right": null,
            "top": null,
            "visibility": null,
            "width": null
          }
        },
        "aed924f346e74519832b3ce19752ac85": {
          "model_module": "@jupyter-widgets/controls",
          "model_name": "ProgressStyleModel",
          "model_module_version": "1.5.0",
          "state": {
            "_model_module": "@jupyter-widgets/controls",
            "_model_module_version": "1.5.0",
            "_model_name": "ProgressStyleModel",
            "_view_count": null,
            "_view_module": "@jupyter-widgets/base",
            "_view_module_version": "1.2.0",
            "_view_name": "StyleView",
            "bar_color": null,
            "description_width": ""
          }
        },
        "5ef7d8eca0044645a7eb79d4a08e4848": {
          "model_module": "@jupyter-widgets/base",
          "model_name": "LayoutModel",
          "model_module_version": "1.2.0",
          "state": {
            "_model_module": "@jupyter-widgets/base",
            "_model_module_version": "1.2.0",
            "_model_name": "LayoutModel",
            "_view_count": null,
            "_view_module": "@jupyter-widgets/base",
            "_view_module_version": "1.2.0",
            "_view_name": "LayoutView",
            "align_content": null,
            "align_items": null,
            "align_self": null,
            "border": null,
            "bottom": null,
            "display": null,
            "flex": null,
            "flex_flow": null,
            "grid_area": null,
            "grid_auto_columns": null,
            "grid_auto_flow": null,
            "grid_auto_rows": null,
            "grid_column": null,
            "grid_gap": null,
            "grid_row": null,
            "grid_template_areas": null,
            "grid_template_columns": null,
            "grid_template_rows": null,
            "height": null,
            "justify_content": null,
            "justify_items": null,
            "left": null,
            "margin": null,
            "max_height": null,
            "max_width": null,
            "min_height": null,
            "min_width": null,
            "object_fit": null,
            "object_position": null,
            "order": null,
            "overflow": null,
            "overflow_x": null,
            "overflow_y": null,
            "padding": null,
            "right": null,
            "top": null,
            "visibility": null,
            "width": null
          }
        },
        "24ac276bb8534c79b74a2e386faf3939": {
          "model_module": "@jupyter-widgets/controls",
          "model_name": "DescriptionStyleModel",
          "model_module_version": "1.5.0",
          "state": {
            "_model_module": "@jupyter-widgets/controls",
            "_model_module_version": "1.5.0",
            "_model_name": "DescriptionStyleModel",
            "_view_count": null,
            "_view_module": "@jupyter-widgets/base",
            "_view_module_version": "1.2.0",
            "_view_name": "StyleView",
            "description_width": ""
          }
        }
      }
    }
  },
  "nbformat_minor": 0,
  "nbformat": 4,
  "cells": [
    {
      "cell_type": "code",
      "source": [
        "from google.colab import drive\n",
        "drive.mount('/content/drive')\n",
        "\n",
        "!unzip drive/MyDrive/archive.zip"
      ],
      "metadata": {
        "colab": {
          "base_uri": "https://localhost:8080/"
        },
        "id": "77CBI8OEr9dO",
        "outputId": "e1229102-9998-4b83-ef16-a70adce10e1f"
      },
      "execution_count": 1,
      "outputs": [
        {
          "output_type": "stream",
          "name": "stdout",
          "text": [
            "Mounted at /content/drive\n",
            "Archive:  drive/MyDrive/archive.zip\n",
            "  inflating: test.csv                \n",
            "  inflating: train.csv               \n"
          ]
        }
      ]
    },
    {
      "cell_type": "code",
      "source": [
        "\"Cell that manages imports\"\n",
        "import pandas as pd\n",
        "import os\n",
        "import torch\n",
        "import torch.nn as nn\n",
        "from torch.utils.data import Dataset, DataLoader\n",
        "import nltk\n",
        "from nltk.corpus import wordnet\n",
        "import random\n",
        "import numpy as np\n",
        "from collections import defaultdict\n",
        "from transformers import AutoTokenizer, AutoModelForSequenceClassification\n",
        "import torch.nn.functional as F\n",
        "from sklearn.metrics import accuracy_score, confusion_matrix, classification_report, roc_auc_score\n",
        "from tqdm import tqdm\n",
        "from torch.optim.lr_scheduler import CosineAnnealingLR\n",
        "import wandb"
      ],
      "metadata": {
        "trusted": true,
        "execution": {
          "iopub.status.busy": "2025-04-11T02:26:08.308894Z",
          "iopub.execute_input": "2025-04-11T02:26:08.309340Z",
          "iopub.status.idle": "2025-04-11T02:26:17.512217Z",
          "shell.execute_reply.started": "2025-04-11T02:26:08.309298Z",
          "shell.execute_reply": "2025-04-11T02:26:17.511539Z"
        },
        "id": "ynSFq2oFr5Yd"
      },
      "outputs": [],
      "execution_count": 2
    },
    {
      "cell_type": "code",
      "source": [
        "\"For reproducibility\"\n",
        "MANUAL_SEED = 1337\n",
        "torch.manual_seed(MANUAL_SEED)\n",
        "torch.cuda.manual_seed(MANUAL_SEED)\n",
        "np.random.seed(MANUAL_SEED)\n",
        "random.seed(MANUAL_SEED)"
      ],
      "metadata": {
        "trusted": true,
        "execution": {
          "iopub.status.busy": "2025-04-11T02:26:17.519775Z",
          "iopub.execute_input": "2025-04-11T02:26:17.520023Z",
          "iopub.status.idle": "2025-04-11T02:26:17.553913Z",
          "shell.execute_reply.started": "2025-04-11T02:26:17.520004Z",
          "shell.execute_reply": "2025-04-11T02:26:17.553205Z"
        },
        "id": "gTCmxRAfr5Yf"
      },
      "outputs": [],
      "execution_count": 3
    },
    {
      "cell_type": "code",
      "source": [
        "dir_path = \"./\"\n",
        "nltk.download('wordnet')\n",
        "nltk.download('omw-1.4')\n",
        "import zipfile\n",
        "import os\n",
        "\n",
        "df_train = pd.read_csv(os.path.join(dir_path, \"train.csv\"))\n",
        "df_test = pd.read_csv(os.path.join(dir_path, \"test.csv\"))"
      ],
      "metadata": {
        "trusted": true,
        "execution": {
          "iopub.status.busy": "2025-04-11T02:26:17.555038Z",
          "iopub.execute_input": "2025-04-11T02:26:17.555333Z",
          "iopub.status.idle": "2025-04-11T02:26:23.559960Z",
          "shell.execute_reply.started": "2025-04-11T02:26:17.555302Z",
          "shell.execute_reply": "2025-04-11T02:26:23.559040Z"
        },
        "colab": {
          "base_uri": "https://localhost:8080/"
        },
        "id": "4dsiPtE9r5Yf",
        "outputId": "86d21b28-7f1e-4b0b-9c20-11be231bd0f1"
      },
      "outputs": [
        {
          "output_type": "stream",
          "name": "stderr",
          "text": [
            "[nltk_data] Downloading package wordnet to /root/nltk_data...\n",
            "[nltk_data] Downloading package omw-1.4 to /root/nltk_data...\n"
          ]
        }
      ],
      "execution_count": 4
    },
    {
      "cell_type": "code",
      "source": [
        "train_datapoints, test_datapoints = [], []\n",
        "for index, row in df_train.iterrows():\n",
        "    train_datapoints.append((row[\"content\"], row[\"label\"]))\n",
        "\n",
        "for index, row in df_test.iterrows():\n",
        "    test_datapoints.append(( row[\"content\"], row[\"label\"]))\n",
        "\n",
        "NUM_ID, NUM_OOD = 8, 6\n",
        "assert NUM_ID + NUM_OOD == 14, \"Total number of classes are 14\"\n",
        "ID_MASK = np.concatenate((np.ones(NUM_ID, int), np.zeros(NUM_OOD, int))).astype(bool)\n",
        "OOD_MASK = ~ID_MASK\n",
        "ID_CLASSES = np.arange(start=0, stop=14, step=1)[ID_MASK]\n",
        "OOD_CLASSES = np.arange(start=0, stop=14, step=1)[OOD_MASK]\n",
        "\n",
        "train_labeled_datapoints, train_unlabeled_datapoints = [], []\n",
        "\n",
        "np.random.shuffle(train_datapoints); np.random.shuffle(test_datapoints)\n",
        "label_num = defaultdict(int)\n",
        "for text, label in train_datapoints:\n",
        "    if(label in OOD_CLASSES):\n",
        "        train_unlabeled_datapoints.append(text)\n",
        "    else:\n",
        "        label_num[label] += 1\n",
        "        if(label_num[label] <= 10000): # Putting the first 10,000 samples as train_labeled.\n",
        "            train_labeled_datapoints.append((text, label))\n",
        "        else: # Rest 10,000 samples as train_unlabeled...\n",
        "            train_unlabeled_datapoints.append(text)\n"
      ],
      "metadata": {
        "trusted": true,
        "execution": {
          "iopub.status.busy": "2025-04-11T02:26:23.560804Z",
          "iopub.execute_input": "2025-04-11T02:26:23.561107Z",
          "iopub.status.idle": "2025-04-11T02:26:51.293354Z",
          "shell.execute_reply.started": "2025-04-11T02:26:23.561076Z",
          "shell.execute_reply": "2025-04-11T02:26:51.292638Z"
        },
        "id": "UGI4FA3Tr5Yg"
      },
      "outputs": [],
      "execution_count": 5
    },
    {
      "cell_type": "code",
      "source": [
        "from collections import Counter\n",
        "import matplotlib.pyplot as plt\n",
        "import seaborn as sns\n",
        "\n",
        "\n",
        "train_labels = [label for _, label in train_labeled_datapoints]\n",
        "train_counts = Counter(train_labels)\n",
        "all_classes = list(range(14))\n",
        "train_counts = {cls: train_counts.get(cls, 0) for cls in all_classes}\n",
        "def plot_class_distribution(counts, title):\n",
        "    sns.set(style=\"whitegrid\")\n",
        "    plt.figure(figsize=(10, 4))\n",
        "    sns.barplot(x=list(counts.keys()), y=list(counts.values()), palette=\"viridis\")\n",
        "    plt.xlabel(\"Class\")\n",
        "    plt.ylabel(\"Number of Samples\")\n",
        "    plt.title(title)\n",
        "    plt.show()\n",
        "\n",
        "plot_class_distribution(train_counts, \"Train Labeled Class Distribution (ID)\")"
      ],
      "metadata": {
        "colab": {
          "base_uri": "https://localhost:8080/",
          "height": 528
        },
        "id": "MuRNWcpTQOvy",
        "outputId": "4d12af64-13d2-4a33-9bc0-da4f9420fe71"
      },
      "execution_count": 6,
      "outputs": [
        {
          "output_type": "stream",
          "name": "stderr",
          "text": [
            "<ipython-input-6-dc49739559df>:13: FutureWarning: \n",
            "\n",
            "Passing `palette` without assigning `hue` is deprecated and will be removed in v0.14.0. Assign the `x` variable to `hue` and set `legend=False` for the same effect.\n",
            "\n",
            "  sns.barplot(x=list(counts.keys()), y=list(counts.values()), palette=\"viridis\")\n"
          ]
        },
        {
          "output_type": "display_data",
          "data": {
            "text/plain": [
              "<Figure size 1000x400 with 1 Axes>"
            ],
            "image/png": "[encoded data removed]"
          },
          "metadata": {}
        }
      ]
    },
    {
      "cell_type": "code",
      "source": [
        "def _weakaugment(text: str) -> str:\n",
        "        \"\"\"\n",
        "        Weak augmentation -> Randomly deleting some part of the text\n",
        "        \"\"\"\n",
        "        words = text.split()\n",
        "        if len(words) <= 1:\n",
        "            return text\n",
        "        drop_prob = 0.1\n",
        "        new_words = [word for word in words if random.random() > drop_prob]\n",
        "        if not new_words:\n",
        "            new_words = [random.choice(words)]\n",
        "        return ' '.join(new_words)\n",
        "\n",
        "\n",
        "def _get_synonym(word: str) -> str:\n",
        "        synonyms = wordnet.synsets(word)\n",
        "        if not synonyms:\n",
        "            return word\n",
        "        lemma_names = synonyms[0].lemma_names()\n",
        "        lemma_names = [lemma for lemma in lemma_names if lemma.lower() != word.lower()]\n",
        "        if lemma_names:\n",
        "            return random.choice(lemma_names).replace('_', ' ')\n",
        "        return word\n",
        "\n",
        "def _strongaugment(text: str) -> str:\n",
        "    \"\"\"\n",
        "    Strong augmentation -> Applies synonym replacement and random word swapping.\n",
        "    \"\"\"\n",
        "    words = text.split()\n",
        "    if not words:\n",
        "        return text\n",
        "    replace_prob = 0.3\n",
        "    new_words = []\n",
        "    for word in words:\n",
        "        if random.random() < replace_prob:\n",
        "            new_word = _get_synonym(word)\n",
        "            new_words.append(new_word)\n",
        "        else:\n",
        "            new_words.append(word)\n",
        "    swap_prob = 0.2\n",
        "    for i in range(len(new_words)):\n",
        "        if random.random() < swap_prob and len(new_words) > 1:\n",
        "            swap_idx = random.randint(0, len(new_words)-1)\n",
        "            new_words[i], new_words[swap_idx] = new_words[swap_idx], new_words[i]\n",
        "\n",
        "    return ' '.join(new_words)"
      ],
      "metadata": {
        "trusted": true,
        "execution": {
          "iopub.status.busy": "2025-04-11T02:26:51.294114Z",
          "iopub.execute_input": "2025-04-11T02:26:51.294328Z",
          "iopub.status.idle": "2025-04-11T02:26:51.301645Z",
          "shell.execute_reply.started": "2025-04-11T02:26:51.294308Z",
          "shell.execute_reply": "2025-04-11T02:26:51.300766Z"
        },
        "id": "Z-IYBgU2r5Yg"
      },
      "outputs": [],
      "execution_count": 7
    },
    {
      "cell_type": "code",
      "source": [
        "class DBpediaLabeled(Dataset):\n",
        "    def __init__(self, data, tokenizer, ID_classes, is_train: bool = True, max_len=128):\n",
        "        super().__init__()\n",
        "        self.data = data\n",
        "        self.tokenizer = tokenizer\n",
        "        self.max_len = max_len\n",
        "        self.is_train = is_train\n",
        "        self.ID_classes = ID_classes\n",
        "\n",
        "    def __len__(self):\n",
        "        return len(self.data)\n",
        "\n",
        "\n",
        "    def __getitem__(self, index):\n",
        "        text, label = self.data[index]\n",
        "        text = _weakaugment(text)\n",
        "        encoding = self.tokenizer(text, truncation=True, padding=\"max_length\", max_length=self.max_len, return_tensors=\"pt\")\n",
        "        if(not self.is_train and label not in self.ID_classes):\n",
        "            label = -1\n",
        "        return ({\n",
        "            'input_ids': encoding['input_ids'].squeeze(0),\n",
        "            'attention_mask': encoding['attention_mask'].squeeze(0)}\n",
        "        , torch.tensor(label, dtype=torch.long))\n",
        "\n",
        "class DBpediaUnLabeled(Dataset):\n",
        "    def __init__(self, data, tokenizer, max_len=128):\n",
        "        super().__init__()\n",
        "        self.data = data\n",
        "        self.tokenizer = tokenizer\n",
        "        self.max_len = max_len\n",
        "\n",
        "\n",
        "    def __len__(self):\n",
        "        return len(self.data)\n",
        "\n",
        "\n",
        "    def __getitem__(self, index):\n",
        "        text = self.data[index]\n",
        "        text_weak = _weakaugment(text)\n",
        "        text_strong = _strongaugment(text)\n",
        "        encoding_weak = self.tokenizer(text_weak, truncation=True, padding=\"max_length\", max_length=self.max_len, return_tensors=\"pt\")\n",
        "        encoding_strong = self.tokenizer(text_strong, truncation=True, padding=\"max_length\", max_length=self.max_len, return_tensors=\"pt\")\n",
        "\n",
        "        return (\n",
        "            {\n",
        "                'input_ids': encoding_weak['input_ids'].squeeze(0), # Because it returns encodings in (1, max_length). We convert it to (max_length)\n",
        "                'attention_mask': encoding_weak['attention_mask'].squeeze(0) # Similarly for the attention_masks, which are basically 0, 1.\n",
        "            },\n",
        "            {\n",
        "                'input_ids': encoding_strong['input_ids'].squeeze(0),\n",
        "                'attention_mask': encoding_strong['attention_mask'].squeeze(0)\n",
        "            }\n",
        "        )"
      ],
      "metadata": {
        "trusted": true,
        "execution": {
          "iopub.status.busy": "2025-04-11T02:26:51.302406Z",
          "iopub.execute_input": "2025-04-11T02:26:51.302603Z",
          "iopub.status.idle": "2025-04-11T02:26:51.325531Z",
          "shell.execute_reply.started": "2025-04-11T02:26:51.302585Z",
          "shell.execute_reply": "2025-04-11T02:26:51.324747Z"
        },
        "id": "xL73C3Z_r5Yg"
      },
      "outputs": [],
      "execution_count": 8
    },
    {
      "cell_type": "code",
      "source": [
        "class Classifier(nn.Module):\n",
        "    def __init__(self, in_f, out_f):\n",
        "        super().__init__()\n",
        "        self.classifier = nn.Linear(in_f, out_f)\n",
        "\n",
        "    def forward(self, x):\n",
        "        return self.classifier(x)\n",
        "\n",
        "feature_dim = 32\n",
        "tokenizer = AutoTokenizer.from_pretrained('prajjwal1/bert-tiny')\n",
        "backbone = AutoModelForSequenceClassification.from_pretrained('prajjwal1/bert-tiny', num_labels=feature_dim)\n",
        "classifier = Classifier(feature_dim, len(ID_CLASSES))\n"
      ],
      "metadata": {
        "trusted": true,
        "execution": {
          "iopub.status.busy": "2025-04-11T02:26:51.327942Z",
          "iopub.execute_input": "2025-04-11T02:26:51.328137Z",
          "iopub.status.idle": "2025-04-11T02:27:06.694235Z",
          "shell.execute_reply.started": "2025-04-11T02:26:51.328119Z",
          "shell.execute_reply": "2025-04-11T02:27:06.693368Z"
        },
        "colab": {
          "base_uri": "https://localhost:8080/",
          "height": 276,
          "referenced_widgets": [
            "6fa2f1991eab4088a3153e8ab5a79874",
            "c0e995e38c6a4645b756fd3ebc4ed7ef",
            "a2324b23585943d28976a660629c9cc4",
            "dd05a9adbddc456fad46037e240e5f0e",
            "a27dbc50f6e2438b9095bf3fdd2cba03",
            "d7030e09ef7b4a14a0c4a158aff28b24",
            "1ae842d97ace4501afa88a9b34f3d378",
            "0d3c02ea03c141938b01a71f288f6919",
            "69ed06a466274997bdd2f5e0df3288c3",
            "de7650a58e9b4a8bbb43cb504d092235",
            "f8f741481214463c9721e715daf9fce8",
            "c342598eb6204a88a0045d8a436d30cc",
            "440722780e0e4c9ab6bd08558e1cc4cf",
            "cbeea923cdc444cea79464df4589393c",
            "534fb1a9645e4c3d840bdc91ec737de1",
            "bb659f43ed024c2596a611660a73fa53",
            "9206abe94a4f49aba4ba5e8ec653b39e",
            "3d3722982f044ec5a8f26a2394fcc77e",
            "536eb4deda4e4cb398a5cf9a4283a55a",
            "d4c3170f2e474c0e93fca604659b34d6",
            "af8fce040e3f4a21b792822fc423785d",
            "b7ec4adf18d64920ab7a6ab1776c8249",
            "5d7ab0b6e17149d9b178fef020e7b927",
            "aa782cf3372147d1a044f6946b544f94",
            "d1e071edc09a4c678b958b6cda0f12d8",
            "e5d59ce4c0a24a088f1de73c2d2fc221",
            "ee367eb5a1ae40dbbddf5667db1a20b3",
            "2a138b504f4a4a27be3586d4083865a6",
            "920cd928ddea43cfa990d109a638205c",
            "7800274458dd47d1b9180f5301237da0",
            "aed924f346e74519832b3ce19752ac85",
            "5ef7d8eca0044645a7eb79d4a08e4848",
            "24ac276bb8534c79b74a2e386faf3939"
          ]
        },
        "id": "vR0AGpkhr5Yh",
        "outputId": "6b55c379-4af9-4f45-b005-38fcd925f6ba"
      },
      "outputs": [
        {
          "output_type": "stream",
          "name": "stderr",
          "text": [
            "/usr/local/lib/python3.11/dist-packages/huggingface_hub/utils/_auth.py:94: UserWarning: \n",
            "The secret `HF_TOKEN` does not exist in your Colab secrets.\n",
            "To authenticate with the Hugging Face Hub, create a token in your settings tab (https://huggingface.co/settings/tokens), set it as secret in your Google Colab and restart your session.\n",
            "You will be able to reuse this secret in all of your notebooks.\n",
            "Please note that authentication is recommended but still optional to access public models or datasets.\n",
            "  warnings.warn(\n"
          ]
        },
        {
          "output_type": "display_data",
          "data": {
            "text/plain": [
              "config.json:   0%|          | 0.00/285 [00:00<?, ?B/s]"
            ],
            "application/vnd.jupyter.widget-view+json": {
              "version_major": 2,
              "version_minor": 0,
              "model_id": "6fa2f1991eab4088a3153e8ab5a79874"
            }
          },
          "metadata": {}
        },
        {
          "output_type": "display_data",
          "data": {
            "text/plain": [
              "vocab.txt:   0%|          | 0.00/232k [00:00<?, ?B/s]"
            ],
            "application/vnd.jupyter.widget-view+json": {
              "version_major": 2,
              "version_minor": 0,
              "model_id": "c342598eb6204a88a0045d8a436d30cc"
            }
          },
          "metadata": {}
        },
        {
          "output_type": "display_data",
          "data": {
            "text/plain": [
              "pytorch_model.bin:   0%|          | 0.00/17.8M [00:00<?, ?B/s]"
            ],
            "application/vnd.jupyter.widget-view+json": {
              "version_major": 2,
              "version_minor": 0,
              "model_id": "5d7ab0b6e17149d9b178fef020e7b927"
            }
          },
          "metadata": {}
        },
        {
          "output_type": "stream",
          "name": "stderr",
          "text": [
            "Some weights of BertForSequenceClassification were not initialized from the model checkpoint at prajjwal1/bert-tiny and are newly initialized: ['classifier.bias', 'classifier.weight']\n",
            "You should probably TRAIN this model on a down-stream task to be able to use it for predictions and inference.\n"
          ]
        }
      ],
      "execution_count": 11
    },
    {
      "cell_type": "code",
      "source": [
        "unlabeled_batch_size = 6*512\n",
        "batch_size = 512\n",
        "test_size = 1024"
      ],
      "metadata": {
        "id": "j73HI5OKtLBR"
      },
      "execution_count": 12,
      "outputs": []
    },
    {
      "cell_type": "code",
      "source": [
        "train_labeled_dataset = DBpediaLabeled(train_labeled_datapoints, tokenizer, [])\n",
        "train_unlabeled_dataset = DBpediaUnLabeled(train_unlabeled_datapoints, tokenizer)\n",
        "test_labeled_dataset = DBpediaLabeled(test_datapoints, tokenizer, ID_CLASSES,is_train=False)\n",
        "train_labeled_dataloader = DataLoader(train_labeled_dataset, batch_size=batch_size, shuffle=True, drop_last=True)\n",
        "train_unlabeled_dataloader = DataLoader(train_unlabeled_dataset, batch_size=unlabeled_batch_size, shuffle=True, drop_last=True)\n",
        "test_labeled_dataloader = DataLoader(test_labeled_dataset, batch_size=test_size, shuffle=False, drop_last=True)"
      ],
      "metadata": {
        "trusted": true,
        "execution": {
          "iopub.status.busy": "2025-04-11T02:27:06.695766Z",
          "iopub.execute_input": "2025-04-11T02:27:06.696702Z",
          "iopub.status.idle": "2025-04-11T02:27:06.702097Z",
          "shell.execute_reply.started": "2025-04-11T02:27:06.696642Z",
          "shell.execute_reply": "2025-04-11T02:27:06.701130Z"
        },
        "id": "TzgP1n22r5Yh"
      },
      "outputs": [],
      "execution_count": 13
    },
    {
      "cell_type": "markdown",
      "source": [
        "$\\pi$=1  $\\nu$=6"
      ],
      "metadata": {
        "id": "0AybDlXJr5Yh"
      }
    },
    {
      "cell_type": "code",
      "source": [
        "# so what index adds does is takes index Z_l add that particular index of Z_l to index y_l of self, alpha determines the multiplication\n",
        "\"\"\"\n",
        "Source Pytorch Documentation\n",
        "self[index[i], :, :] += alpha * src[i, :, :]  # if dim == 0\n",
        "self[:, index[i], :] += alpha * src[:, i, :]  # if dim == 1\n",
        "self[:, :, index[i]] += alpha * src[:, :, i]  # if dim == 2\n",
        "\"\"\"\n",
        "\"This function has been tested\"\n",
        "def get_batch_mean(Z, y, num_classes, feature_dim, batch_size, device):\n",
        "    sums = torch.zeros(num_classes, feature_dim, dtype=Z_l.dtype, device=device)\n",
        "    counts = torch.zeros(num_classes, dtype=torch.float, device=device)\n",
        "    sums = sums.index_add(0, y_l, Z_l, alpha=1)\n",
        "    ones = torch.ones(batch_size, dtype=torch.float, device=device)\n",
        "    counts = counts.index_add(0, y_l, ones)\n",
        "    counts[counts == 0] = 1.0\n",
        "    avg_values = sums / counts.unsqueeze(1) # using broadcasting for division\n",
        "    return avg_values\n",
        "\n",
        "\"This function has been tested\"\n",
        "\"\"\"def subspace_score(Z, batch_means):\n",
        "    batch_means = torch.transpose(batch_means, 0, 1)\n",
        "    Q, R = torch.linalg.qr(batch_means)\n",
        "    Q = Q.unsqueeze(0)\n",
        "    proj_w = torch.matmul(Q, torch.matmul(torch.transpose(Q, 1, 2), Z.unsqueeze(2))).squeeze(2)\n",
        "    prod = torch.sum(proj_w * Z, dim=1)\n",
        "    norm_Z = torch.norm(Z, dim=1, keepdim=True)\n",
        "    norm_proj_w = torch.norm(proj_w, dim=1, keepdim=True)\n",
        "    return torch.tensordot(proj_w,Z, dims=2)/(norm_proj_w*norm_Z)\"\"\""
      ],
      "metadata": {
        "trusted": true,
        "execution": {
          "iopub.status.busy": "2025-04-11T02:27:06.702894Z",
          "iopub.execute_input": "2025-04-11T02:27:06.703149Z",
          "iopub.status.idle": "2025-04-11T02:27:06.792573Z",
          "shell.execute_reply.started": "2025-04-11T02:27:06.703118Z",
          "shell.execute_reply": "2025-04-11T02:27:06.791871Z"
        },
        "colab": {
          "base_uri": "https://localhost:8080/",
          "height": 89
        },
        "id": "sE0crgG4r5Yh",
        "outputId": "5d126571-51d3-4057-8e98-6d48a1c7732b"
      },
      "outputs": [
        {
          "output_type": "execute_result",
          "data": {
            "text/plain": [
              "'def subspace_score(Z, batch_means):\\n    batch_means = torch.transpose(batch_means, 0, 1)\\n    Q, R = torch.linalg.qr(batch_means)\\n    Q = Q.unsqueeze(0)\\n    proj_w = torch.matmul(Q, torch.matmul(torch.transpose(Q, 1, 2), Z.unsqueeze(2))).squeeze(2)\\n    prod = torch.sum(proj_w * Z, dim=1)\\n    norm_Z = torch.norm(Z, dim=1, keepdim=True)\\n    norm_proj_w = torch.norm(proj_w, dim=1, keepdim=True)\\n    return torch.tensordot(proj_w,Z, dims=2)/(norm_proj_w*norm_Z)'"
            ],
            "application/vnd.google.colaboratory.intrinsic+json": {
              "type": "string"
            }
          },
          "metadata": {},
          "execution_count": 14
        }
      ],
      "execution_count": 14
    },
    {
      "cell_type": "code",
      "source": [
        "import torch\n",
        "import torch.nn.functional as F\n",
        "\n",
        "def subspace_score(Z, batch_means):\n",
        "    \"\"\"\n",
        "    Z: (batch_size, feature_dim)\n",
        "    batch_means: (num_classes, feature_dim)\n",
        "    Returns:\n",
        "        cosine similarity between Z and its projection on the subspace\n",
        "        spanned by batch_means — shape (batch_size, 1)\n",
        "    \"\"\"\n",
        "    Q, _ = torch.linalg.qr(batch_means.T)\n",
        "    proj_Z = Z @ Q @ Q.T\n",
        "    cos_sim = F.cosine_similarity(Z, proj_Z, dim=1).clamp(0, 1)\n",
        "    return cos_sim.unsqueeze(1)\n"
      ],
      "metadata": {
        "trusted": true,
        "execution": {
          "iopub.status.busy": "2025-04-11T02:27:06.793432Z",
          "iopub.execute_input": "2025-04-11T02:27:06.794052Z",
          "iopub.status.idle": "2025-04-11T02:27:06.811467Z",
          "shell.execute_reply.started": "2025-04-11T02:27:06.794000Z",
          "shell.execute_reply": "2025-04-11T02:27:06.810644Z"
        },
        "id": "r0ZJZ17tr5Yi"
      },
      "outputs": [],
      "execution_count": 15
    },
    {
      "cell_type": "code",
      "source": [
        "\"Taken from the code given by the authors... \"\n",
        "def beta_pdf(x, alpha, beta, loc=0.0, scale=1.0):\n",
        "    x = (x - loc) / scale\n",
        "    alpha = torch.as_tensor(alpha, dtype=torch.float32, device=x.device)\n",
        "    beta = torch.as_tensor(beta, dtype=torch.float32, device=x.device)\n",
        "    scale = torch.as_tensor(scale, dtype=torch.float32, device=x.device)\n",
        "    def xlogy(a, b):\n",
        "        return torch.where(a == 0, torch.zeros_like(b), a * torch.log(b + 1e-10))\n",
        "    def xlog1py(a, y):\n",
        "        return torch.where(a == 0, torch.zeros_like(y), a * torch.log1p(y + 1e-10))\n",
        "    log_unnormalized = xlogy(alpha - 1.0, x) + xlog1py(beta - 1.0, -x)\n",
        "    log_normalization = torch.lgamma(alpha) + torch.lgamma(beta) - torch.lgamma(alpha + beta)\n",
        "    log_prob = log_unnormalized - log_normalization\n",
        "    log_prob = torch.where((x >= 0) & (x <= 1), log_prob, torch.tensor(float('-inf'), device=x.device))\n",
        "    return torch.exp(log_prob) / scale\n",
        "\n",
        "def update_beta_parameters(w_id, w_ood, s_l, s_u ,alpha_id, beta_id, alpha_ood, beta_ood, l):\n",
        "    # Detaching from computational graph so that it won't cause some bullshit error\n",
        "    w_id = w_id.squeeze(1).detach(); w_ood = w_ood.squeeze(1).detach()\n",
        "    s_l = s_l.squeeze(1).detach(); s_u = s_u.squeeze(1).detach()\n",
        "    nu_id = torch.sum(s_l) + torch.dot(w_id, s_u)/(s_l.size(0) + torch.sum(w_id))\n",
        "    sigma2_id = (torch.sum(s_l - nu_id)**2 + torch.dot(w_id, (s_u - nu_id)**2))/(s_l.size(0) + torch.sum(w_id))\n",
        "\n",
        "    nu_ood = torch.dot(w_ood, s_u)/(torch.sum(w_ood))\n",
        "    sigma2_ood = torch.dot(w_ood, (s_u - nu_id)**2)/((torch.sum(w_ood)))\n",
        "\n",
        "    _alpha_id = nu_id*((nu_id*(1-nu_id))/sigma2_id - 1)\n",
        "    _alpha_ood = nu_ood*((nu_ood*(1-nu_ood))/sigma2_ood - 1)\n",
        "    _beta_id = (1 - nu_id)*((nu_id*(1-nu_id))/sigma2_id - 1)\n",
        "    _beta_ood = (1 - nu_ood)*((nu_ood*(1-nu_ood))/sigma2_ood - 1)\n",
        "\n",
        "    return alpha_id*l + (1 - l)*_alpha_id, beta_id*l + (1 - l)*_beta_id, alpha_ood*l + (1 - l)*_alpha_ood, beta_ood*l + (1 - l)*_beta_ood\n",
        "\n",
        "def get_p_id(s, alpha_id, beta_id, alpha_ood, beta_ood, pi=1.0):\n",
        "    \"\"\"\n",
        "    Compute the ID probability using Beta PDFs instead of torch.distributions.Beta,\n",
        "    following the formulation in the paper (with loc/scale support implicitly assumed as 0/1).\n",
        "    \"\"\"\n",
        "    beta_pdf_id = beta_pdf(s, alpha_id, beta_id)\n",
        "    beta_pdf_ood = beta_pdf(s, alpha_ood, beta_ood)\n",
        "    numerator = beta_pdf_id * pi\n",
        "    denominator = numerator + beta_pdf_ood * (1 - pi)\n",
        "    p_id = numerator / (denominator + 1e-8)\n",
        "    return p_id\n"
      ],
      "metadata": {
        "trusted": true,
        "execution": {
          "iopub.status.busy": "2025-04-11T02:27:06.812393Z",
          "iopub.execute_input": "2025-04-11T02:27:06.812722Z",
          "iopub.status.idle": "2025-04-11T02:27:06.829969Z",
          "shell.execute_reply.started": "2025-04-11T02:27:06.812690Z",
          "shell.execute_reply": "2025-04-11T02:27:06.829296Z"
        },
        "id": "ElshNN8Zr5Yi"
      },
      "outputs": [],
      "execution_count": 16
    },
    {
      "cell_type": "code",
      "source": [
        "\"this function has been tested\"\n",
        "class SelfSupervisionLoss(nn.Module):\n",
        "    def __init__(self, in_f, out_f):\n",
        "        super().__init__()\n",
        "        self.proj = nn.Linear(in_f, out_f, bias=False)\n",
        "\n",
        "    def forward(self, x_w, x_s):\n",
        "        x_s_proj = self.proj(x_s)\n",
        "        x_w = x_w.detach()\n",
        "        dot_product = torch.sum(x_s_proj * x_w, dim=1)\n",
        "        norm_product = torch.norm(x_s_proj, dim=1) * torch.norm(x_w, dim=1)\n",
        "        cosine_sim = dot_product / (norm_product + 1e-8)\n",
        "        return -cosine_sim.mean()\n",
        "\n",
        "\"Can't this be negative??\"\n",
        "\"Though i did test this..\"\n",
        "class SubspaceLoss(nn.Module):\n",
        "    def __init__(self):\n",
        "        super().__init__()\n",
        "\n",
        "    def forward(self, m_id, m_ood, s_z):\n",
        "        m_id, m_ood = m_id.to(dtype=float), m_ood.to(dtype=float)\n",
        "        return torch.mean((m_ood - m_id) * s_z)\n",
        "\n",
        "\"This function has been tested\"\n",
        "\n",
        "class SemiSupervisedLoss(nn.Module):\n",
        "    def __init__(self, threshold):\n",
        "        super().__init__()\n",
        "        self.threshold = threshold\n",
        "\n",
        "    def forward(self,y_pred, y_true, mask_id):\n",
        "        \"\"\"\n",
        "        logits of model on weakly augmented data: y_true\n",
        "        logits of model on strongly augmented data: y_pred\n",
        "        boolean tensors for ID/OOD classification: mask_id\n",
        "        \"\"\"\n",
        "        y_true = y_true.detach()\n",
        "        batch_size = y_pred.size(0)\n",
        "        entropy = F.cross_entropy(y_pred, torch.argmax(y_true, dim=1), reduction=\"none\") # input logits, and true labels\n",
        "        y_prob_true = F.softmax(y_true, dim=1)\n",
        "        sample_id = torch.logical_and(torch.max(y_prob_true, dim=1)[0] >= self.threshold, (mask_id == 1))\n",
        "        return (torch.sum(entropy[sample_id]))/batch_size"
      ],
      "metadata": {
        "trusted": true,
        "execution": {
          "iopub.status.busy": "2025-04-11T02:27:06.830949Z",
          "iopub.execute_input": "2025-04-11T02:27:06.831241Z",
          "iopub.status.idle": "2025-04-11T02:27:06.850693Z",
          "shell.execute_reply.started": "2025-04-11T02:27:06.831211Z",
          "shell.execute_reply": "2025-04-11T02:27:06.849882Z"
        },
        "id": "Qy_K-mMQr5Yi"
      },
      "outputs": [],
      "execution_count": 17
    },
    {
      "cell_type": "markdown",
      "source": [
        "It should train really fast i believe due to the fact I just use a pretrained fixed model."
      ],
      "metadata": {
        "id": "5Tzh_prBr5Yi"
      }
    },
    {
      "cell_type": "code",
      "source": [
        "device = \"cuda\" if torch.cuda.is_available() else \"cpu\"\n",
        "num_epoch = 10\n",
        "alpha_id, beta_id = torch.tensor(10, device=device),torch.tensor(2, device=device)\n",
        "alpha_ood, beta_ood = torch.tensor(2, device=device), torch.tensor(10, device=device)\n",
        "warm_up = 5\n",
        "lr = 3e-3\n",
        "backbone.to(device)\n",
        "classifier.to(device)\n",
        "supervised_loss_fn = nn.CrossEntropyLoss()\n",
        "selfsupervised_loss_fn = SelfSupervisionLoss(feature_dim, feature_dim).to(device)\n",
        "subspace_loss_fn = SubspaceLoss().to(device)\n",
        "semisupervised_loss_fn = SemiSupervisedLoss(0.9).to(device)\n",
        "all_params = list(backbone.parameters()) + list(classifier.parameters()) + list(selfsupervised_loss_fn.parameters())\n",
        "optimizer = torch.optim.SGD(all_params, lr=0.01, momentum=0.9, nesterov=True)\n",
        "class_means = torch.zeros((len(ID_CLASSES), feature_dim), requires_grad=False, device=device)\n",
        "class_mean_EMA = 0.2\n",
        "test_accuracy, test_classification_report, test_confusion_matrix, test_auc_roc_score = [], [], [], []\n",
        "num_batches = len(train_labeled_dataloader)\n",
        "batch_means = torch.zeros(len(ID_CLASSES), feature_dim, device=device)\n",
        "scheduler = CosineAnnealingLR(optimizer, T_max=100)"
      ],
      "metadata": {
        "id": "s4h26JAj_2x5"
      },
      "execution_count": 18,
      "outputs": []
    },
    {
      "cell_type": "code",
      "source": [
        "wandb.init(\n",
        "    project=\"dbpedia-ontology\",\n",
        "    name=f\"run_{wandb.util.generate_id()}\",\n",
        "    config={\n",
        "        \"epochs\": num_epoch,\n",
        "        \"learning_rate\": lr,\n",
        "        \"warmup_epochs\": warm_up,\n",
        "        \"scheduler\": \"CosineAnnealingLR\",\n",
        "        \"optimizer\": \"SGD w/ Nesterov\",\n",
        "        \"alpha_id\": alpha_id.item(),\n",
        "        \"beta_id\": beta_id.item(),\n",
        "        \"alpha_ood\": alpha_ood.item(),\n",
        "        \"beta_ood\": beta_ood.item()\n",
        "    }\n",
        ")"
      ],
      "metadata": {
        "colab": {
          "base_uri": "https://localhost:8080/",
          "height": 270
        },
        "id": "ZE3OLkIB_3qq",
        "outputId": "35f33e99-a927-40ce-dcd9-d76434ad7c26"
      },
      "execution_count": 19,
      "outputs": [
        {
          "output_type": "stream",
          "name": "stderr",
          "text": [
            "\u001b[34m\u001b[1mwandb\u001b[0m: Using wandb-core as the SDK backend.  Please refer to https://wandb.me/wandb-core for more information.\n"
          ]
        },
        {
          "output_type": "display_data",
          "data": {
            "text/plain": [
              "<IPython.core.display.Javascript object>"
            ],
            "application/javascript": [
              "\n",
              "        window._wandbApiKey = new Promise((resolve, reject) => {\n",
              "            function loadScript(url) {\n",
              "            return new Promise(function(resolve, reject) {\n",
              "                let newScript = document.createElement(\"script\");\n",
              "                newScript.onerror = reject;\n",
              "                newScript.onload = resolve;\n",
              "                document.body.appendChild(newScript);\n",
              "                newScript.src = url;\n",
              "            });\n",
              "            }\n",
              "            loadScript(\"https://cdn.jsdelivr.net/npm/postmate/build/postmate.min.js\").then(() => {\n",
              "            const iframe = document.createElement('iframe')\n",
              "            iframe.style.cssText = \"width:0;height:0;border:none\"\n",
              "            document.body.appendChild(iframe)\n",
              "            const handshake = new Postmate({\n",
              "                container: iframe,\n",
              "                url: 'https://wandb.ai/authorize'\n",
              "            });\n",
              "            const timeout = setTimeout(() => reject(\"Couldn't auto authenticate\"), 5000)\n",
              "            handshake.then(function(child) {\n",
              "                child.on('authorize', data => {\n",
              "                    clearTimeout(timeout)\n",
              "                    resolve(data)\n",
              "                });\n",
              "            });\n",
              "            })\n",
              "        });\n",
              "    "
            ]
          },
          "metadata": {}
        },
        {
          "output_type": "stream",
          "name": "stderr",
          "text": [
            "\u001b[34m\u001b[1mwandb\u001b[0m: \u001b[33mWARNING\u001b[0m If you're specifying your api key in code, ensure this code is not shared publicly.\n",
            "\u001b[34m\u001b[1mwandb\u001b[0m: \u001b[33mWARNING\u001b[0m Consider setting the WANDB_API_KEY environment variable, or running `wandb login` from the command line.\n",
            "\u001b[34m\u001b[1mwandb\u001b[0m: No netrc file found, creating one.\n",
            "\u001b[34m\u001b[1mwandb\u001b[0m: Appending key for api.wandb.ai to your netrc file: /root/.netrc\n",
            "\u001b[34m\u001b[1mwandb\u001b[0m: Currently logged in as: \u001b[33msujal22514\u001b[0m (\u001b[33msujal22514-indraprastha-institute-of-information-technol\u001b[0m) to \u001b[32mhttps://api.wandb.ai\u001b[0m. Use \u001b[1m`wandb login --relogin`\u001b[0m to force relogin\n"
          ]
        },
        {
          "output_type": "display_data",
          "data": {
            "text/plain": [
              "<IPython.core.display.HTML object>"
            ],
            "text/html": [
              "Tracking run with wandb version 0.19.9"
            ]
          },
          "metadata": {}
        },
        {
          "output_type": "display_data",
          "data": {
            "text/plain": [
              "<IPython.core.display.HTML object>"
            ],
            "text/html": [
              "Run data is saved locally in <code>/content/wandb/run-20250414_121806-a6sr88qb</code>"
            ]
          },
          "metadata": {}
        },
        {
          "output_type": "display_data",
          "data": {
            "text/plain": [
              "<IPython.core.display.HTML object>"
            ],
            "text/html": [
              "Syncing run <strong><a href='https://wandb.ai/sujal22514-indraprastha-institute-of-information-technol/dbpedia-ontology/runs/a6sr88qb' target=\"_blank\">run_73q52x49</a></strong> to <a href='https://wandb.ai/sujal22514-indraprastha-institute-of-information-technol/dbpedia-ontology' target=\"_blank\">Weights & Biases</a> (<a href='https://wandb.me/developer-guide' target=\"_blank\">docs</a>)<br>"
            ]
          },
          "metadata": {}
        },
        {
          "output_type": "display_data",
          "data": {
            "text/plain": [
              "<IPython.core.display.HTML object>"
            ],
            "text/html": [
              " View project at <a href='https://wandb.ai/sujal22514-indraprastha-institute-of-information-technol/dbpedia-ontology' target=\"_blank\">https://wandb.ai/sujal22514-indraprastha-institute-of-information-technol/dbpedia-ontology</a>"
            ]
          },
          "metadata": {}
        },
        {
          "output_type": "display_data",
          "data": {
            "text/plain": [
              "<IPython.core.display.HTML object>"
            ],
            "text/html": [
              " View run at <a href='https://wandb.ai/sujal22514-indraprastha-institute-of-information-technol/dbpedia-ontology/runs/a6sr88qb' target=\"_blank\">https://wandb.ai/sujal22514-indraprastha-institute-of-information-technol/dbpedia-ontology/runs/a6sr88qb</a>"
            ]
          },
          "metadata": {}
        },
        {
          "output_type": "execute_result",
          "data": {
            "text/html": [
              "<button onClick=\"this.nextSibling.style.display='block';this.style.display='none';\">Display W&B run</button><iframe src='https://wandb.ai/sujal22514-indraprastha-institute-of-information-technol/dbpedia-ontology/runs/a6sr88qb?jupyter=true' style='border:none;width:100%;height:420px;display:none;'></iframe>"
            ],
            "text/plain": [
              "<wandb.sdk.wandb_run.Run at 0x784b734bbcd0>"
            ]
          },
          "metadata": {},
          "execution_count": 19
        }
      ]
    },
    {
      "cell_type": "code",
      "source": [
        "for epoch in range(num_epoch):\n",
        "    backbone.train();classifier.train();selfsupervised_loss_fn.train()\n",
        "    for (X_l, y_l), (X_w, X_s) in tqdm(zip(train_labeled_dataloader, train_unlabeled_dataloader), total=num_batches, desc=\"Training:\"):\n",
        "        \"========================Loading inputs to device========================\"\n",
        "        labeled_input_ids = X_l['input_ids'].to(device);labeled_attention_mask = X_l['attention_mask'].to(device)\n",
        "        y_l = y_l.to(device)\n",
        "        unlabel_weak_input_ids, unlabel_weak_attention_mask = X_w['input_ids'].to(device), X_w['attention_mask'].to(device)\n",
        "        unlabel_strong_input_ids, unlabel_strong_attention_mask = X_s['input_ids'].to(device), X_s['attention_mask'].to(device)\n",
        "        \"========================Inputs loaded========================\"\n",
        "\n",
        "        \"======================= Processing the labeled dataset =======================\"\n",
        "        Z_l = backbone(input_ids=labeled_input_ids, attention_mask=labeled_attention_mask).logits\n",
        "\n",
        "\n",
        "        \"=====================Calculating labeled subspace score============================\"\n",
        "        y_pred_l = classifier(Z_l)\n",
        "        s_l = subspace_score(Z_l, batch_means.detach())\n",
        "        \"=====================Label subspace score calculated============================\"\n",
        "        \"============================Label data processed ============================ \"\n",
        "\n",
        "        \"======================= Processing the labeled dataset =======================\"\n",
        "        Z_w_u, Z_s_u = backbone(unlabel_weak_input_ids,unlabel_weak_attention_mask ).logits, backbone(unlabel_strong_input_ids,unlabel_strong_attention_mask).logits\n",
        "\n",
        "        \" ======================= Calculating subspace score and mask =======================\"\n",
        "        s_u = subspace_score(Z_w_u.detach(), batch_means.detach())\n",
        "        Z_s_u_for_cls = Z_s_u.detach()\n",
        "        Z_w_u_for_cls = Z_w_u.detach()\n",
        "\n",
        "        y_pred_u = classifier(Z_s_u_for_cls)\n",
        "        y_gold_u = classifier(Z_w_u_for_cls)\n",
        "\n",
        "        prob_id_u = get_p_id(s_u, alpha_id, beta_id, alpha_ood, beta_ood) # size should be (Un_labeled_batch_size)\n",
        "        prob_ood_u = 1 - prob_id_u\n",
        "        uniform = torch.rand(unlabeled_batch_size, device=device)\n",
        "        mask_id = (prob_id_u.squeeze(1) >= uniform)\n",
        "        mask_ood = ~mask_id\n",
        "        \" ======================= Calculated subspace score and mask =======================\"\n",
        "\n",
        "        \" ============================Calculating losses ============================\"\n",
        "        loss_selfsupervised = selfsupervised_loss_fn(Z_w_u, Z_s_u)\n",
        "        loss_semi_supervised = semisupervised_loss_fn(y_pred_u, y_gold_u, mask_id)\n",
        "        loss_subspace = subspace_loss_fn(mask_id, mask_ood, s_u)\n",
        "        loss_supervised = supervised_loss_fn(y_pred_l, y_l)\n",
        "        \" ============================Losses Calculated ============================\"\n",
        "\n",
        "        \" ============================ Optimizing the model ============================\"\n",
        "        if epoch < warm_up:\n",
        "            loss = 40*loss_selfsupervised + loss_supervised\n",
        "        else:\n",
        "            loss = 40*loss_selfsupervised + loss_semi_supervised + loss_subspace + loss_supervised\n",
        "        loss.backward()\n",
        "        optimizer.zero_grad()\n",
        "        optimizer.step()\n",
        "        \" ============================ Model optimized ============================\"\n",
        "\n",
        "        \" ======================== Performing IIM Step ======================== \"\n",
        "        alpha_id, alpha_ood, alpha_ood, beta_ood = update_beta_parameters(prob_id_u,prob_ood_u, s_l, s_u ,alpha_id, beta_id, alpha_ood, beta_ood, 0.2)\n",
        "        \" ======================== IIM step done ======================== \"\n",
        "        \"======================= Updating class means =======================\"\n",
        "        batch_means = get_batch_mean(Z_l, y_l, len(ID_CLASSES), feature_dim, batch_size, device)\n",
        "        class_means = class_means*class_mean_EMA + (1 - class_mean_EMA)*batch_means\n",
        "        \"======================= Class means updataed =======================\"\n",
        "        wandb.log({\n",
        "            \"epoch\": epoch,\n",
        "            \"loss_supervised\": loss_supervised.item(),\n",
        "            \"loss_selfsupervised\": loss_selfsupervised.item(),\n",
        "            \"loss_semi_supervised\": loss_semi_supervised.item() if epoch >= warm_up else 0.0,\n",
        "            \"loss_subspace\": loss_subspace.item() if epoch >= warm_up else 0.0,\n",
        "        })\n",
        "\n",
        "\n",
        "    scheduler.step()\n",
        "    backbone.eval();classifier.eval();selfsupervised_loss_fn.eval()\n",
        "    test_predictions,test_targets = [], []\n",
        "    with torch.inference_mode():\n",
        "        for X, y_true in test_labeled_dataloader:\n",
        "            y_true = y_true.to(device)\n",
        "            input_ids, attention_mask = X[\"input_ids\"].to(device), X[\"attention_mask\"].to(device)\n",
        "            Z = backbone(input_ids, attention_mask).logits\n",
        "            y_logits = classifier(Z)\n",
        "            prob_id = get_p_id(Z, alpha_id, beta_id, alpha_ood, beta_ood)\n",
        "            y_softmax = F.softmax(y_logits, dim=1)\n",
        "            y_pred = torch.argmax(y_softmax, dim=1, keepdim=False)\n",
        "            uniform = torch.rand(size=(test_size, ), device=device)\n",
        "            y_pred[(torch.max(y_softmax, dim=1)[0] < uniform)] = -1\n",
        "            test_predictions.extend(y_true.cpu().detach().numpy())\n",
        "            test_targets.extend(y_pred.cpu().detach().numpy())\n",
        "\n",
        "    acc = accuracy_score(test_predictions, test_targets)\n",
        "    print(f\"epoch = {epoch}, acc = {acc:.4f}\")\n",
        "    test_accuracy.append(acc)\n",
        "    test_classification_report.append(classification_report(test_predictions, test_targets, zero_division=0))\n",
        "    test_confusion_matrix.append(confusion_matrix(test_predictions, test_targets))\n",
        "    torch.save(backbone.state_dict(), f\"backbone_epoch_{epoch}.pth\")\n",
        "    torch.save(classifier.state_dict(), f\"classifier_epoch_{epoch}.pth\")\n",
        "    torch.save(selfsupervised_loss_fn.state_dict(), f\"selfsupervised_loss_fn_epoch_{epoch}.pth\")\n",
        "\n",
        "wandb.finish()"
      ],
      "metadata": {
        "trusted": true,
        "execution": {
          "iopub.status.busy": "2025-04-11T02:27:06.871817Z",
          "iopub.execute_input": "2025-04-11T02:27:06.872049Z",
          "execution_failed": "2025-04-11T02:28:17.386Z"
        },
        "colab": {
          "base_uri": "https://localhost:8080/"
        },
        "id": "EA-vuTs3r5Yj",
        "outputId": "eea3b1c5-6ad3-4a40-9327-e3dba7cdac14"
      },
      "outputs": [
        {
          "output_type": "stream",
          "name": "stderr",
          "text": [
            "Training:: 100%|██████████| 156/156 [10:34<00:00,  4.07s/it]\n"
          ]
        },
        {
          "output_type": "stream",
          "name": "stdout",
          "text": [
            "epoch = 0, acc = 0.3750\n"
          ]
        },
        {
          "output_type": "stream",
          "name": "stderr",
          "text": [
            "Training:: 100%|██████████| 156/156 [10:28<00:00,  4.03s/it]\n"
          ]
        },
        {
          "output_type": "stream",
          "name": "stdout",
          "text": [
            "epoch = 1, acc = 0.3759\n"
          ]
        },
        {
          "output_type": "stream",
          "name": "stderr",
          "text": [
            "Training:: 100%|██████████| 156/156 [10:29<00:00,  4.04s/it]\n"
          ]
        },
        {
          "output_type": "stream",
          "name": "stdout",
          "text": [
            "epoch = 2, acc = 0.3767\n"
          ]
        },
        {
          "output_type": "stream",
          "name": "stderr",
          "text": [
            "Training::  48%|████▊     | 75/156 [05:02<05:22,  3.98s/it]"
          ]
        }
      ],
      "execution_count": null
    },
    {
      "cell_type": "code",
      "source": [
        "beta_parameters = torch.stack([alpha_id, beta_id, alpha_ood, beta_ood])\n",
        "torch.save(beta_parameters, \"beta_parameters.pth\")\n",
        "torch.save(batch_means, \"batch_means.pth\")"
      ],
      "metadata": {
        "id": "OdepYKRa9vbp"
      },
      "execution_count": null,
      "outputs": []
    },
    {
      "cell_type": "code",
      "source": [
        "import torch\n",
        "import torch.nn as nn\n",
        "import torch.nn.functional as F\n",
        "from transformers import AutoTokenizer, AutoModelForSequenceClassification\n",
        "\n",
        "class Classifier(nn.Module):\n",
        "    def __init__(self, in_f, out_f):\n",
        "        super().__init__()\n",
        "        self.classifier = nn.Linear(in_f, out_f)\n",
        "\n",
        "    def forward(self, x):\n",
        "        return self.classifier(x)\n",
        "\n",
        "class InferenceModelText:\n",
        "    def __init__(self, backbone_pth, classifier_pth, batch_mean_pth, beta_parameters_pth):\n",
        "        self.feature_dim = 32\n",
        "        self.num_classes = 8\n",
        "        self.device = torch.device(\"cuda\" if torch.cuda.is_available() else \"cpu\")\n",
        "        self.tokenizer = AutoTokenizer.from_pretrained('prajjwal1/bert-tiny')\n",
        "\n",
        "        self.backbone = AutoModelForSequenceClassification.from_pretrained(\n",
        "            'prajjwal1/bert-tiny',\n",
        "            num_labels=self.feature_dim\n",
        "        )\n",
        "        self.backbone.load_state_dict(torch.load(backbone_pth, map_location=self.device))\n",
        "        self.backbone = self.backbone.to(self.device)\n",
        "        self.backbone.eval()\n",
        "        self.classifier = Classifier(self.feature_dim, self.num_classes)\n",
        "        self.classifier.load_state_dict(torch.load(classifier_pth, map_location=self.device))\n",
        "        self.classifier = self.classifier.to(self.device)\n",
        "        self.classifier.eval()\n",
        "        self.batch_means = torch.load(batch_mean_pth, map_location=self.device).to(self.device)\n",
        "        beta_parameters = torch.load(beta_parameters_pth, map_location=self.device).to(self.device)\n",
        "        self.alpha_id, self.beta_id, self.alpha_ood, self.beta_ood = beta_parameters.chunk(4)\n",
        "\n",
        "    def _preprocess(self, text):\n",
        "        encoding = self.tokenizer(\n",
        "            text,\n",
        "            padding=True,\n",
        "            truncation=True,\n",
        "            return_tensors=\"pt\"\n",
        "        )\n",
        "        return {k: v.to(self.device) for k, v in encoding.items()}\n",
        "\n",
        "    def __call__(self, text):\n",
        "        inputs = self._preprocess(text)\n",
        "        with torch.no_grad():\n",
        "            outputs = self.backbone(**inputs)\n",
        "            Z = outputs.logits\n",
        "\n",
        "            s_score = subspace_score(Z, self.batch_means)\n",
        "            p_id = get_p_id(\n",
        "                s_score,\n",
        "                self.alpha_id.to(self.device),\n",
        "                self.beta_id.to(self.device),\n",
        "                self.alpha_ood.to(self.device),\n",
        "                self.beta_ood.to(self.device)\n",
        "            )\n",
        "            if p_id[0] < torch.rand(1, device=self.device):\n",
        "                return -1\n",
        "            y = self.classifier(Z)\n",
        "            return torch.argmax(y, dim=1)\n"
      ],
      "metadata": {
        "id": "HWeIichpQOei"
      },
      "execution_count": null,
      "outputs": []
    },
    {
      "cell_type": "code",
      "source": [
        "backbone_pth = \"backbone_fsd_kaggle.pth\"\n",
        "classifier_pth = \"classifier_epoch_fsd_kaggle.pth\"\n",
        "beta_parameters_pth = \"beta_parameters_fsd_kaggle.pth\"\n",
        "batch_mean_pth = \"batch_means_fsd_kaggle.pth\"\n",
        "\n",
        "test_inf = InferenceModelText(backbone_pth, classifier_pth, batch_mean_pth, beta_parameters_pth)\n",
        "print(test_inf(\"path\"))"
      ],
      "metadata": {
        "id": "Nv8MZxclQts7"
      },
      "execution_count": null,
      "outputs": []
    }
  ]
}